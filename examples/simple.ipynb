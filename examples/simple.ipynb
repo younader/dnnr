{
 "cells": [
  {
   "cell_type": "code",
   "execution_count": 1,
   "id": "01337708-f296-4ae1-a23f-a52cf3a1f022",
   "metadata": {},
   "outputs": [],
   "source": [
    "from dnnr.dnnr import DNNR\n",
    "from sklearn.datasets import fetch_california_housing,make_friedman1\n",
    "from sklearn.model_selection import train_test_split\n",
    "from sklearn.preprocessing import StandardScaler\n",
    "from sklearn.metrics import mean_squared_error"
   ]
  },
  {
   "cell_type": "code",
   "execution_count": 2,
   "id": "b0b1d83f-9e17-4e0a-8fb3-5adf04ef5499",
   "metadata": {},
   "outputs": [],
   "source": [
    "%load_ext autoreload\n",
    "%autoreload 2"
   ]
  },
  {
   "cell_type": "markdown",
   "id": "fae45235-47fa-4bec-92fb-6ce0b9509443",
   "metadata": {
    "tags": []
   },
   "source": [
    "# Data fetching and preprocessing"
   ]
  },
  {
   "cell_type": "code",
   "execution_count": 3,
   "id": "df2cb3ec-7713-459f-b982-fdb34d0498f4",
   "metadata": {},
   "outputs": [],
   "source": [
    "X,y=make_friedman1(n_samples=20000)\n",
    "X=StandardScaler().fit_transform(X)\n",
    "X_train,X_test,y_train,y_test=train_test_split(X,y,test_size=.2,random_state=2022)"
   ]
  },
  {
   "cell_type": "markdown",
   "id": "383021a8-7848-4e64-8ebe-54c6db989af3",
   "metadata": {},
   "source": [
    "# Model fitting and evaluation"
   ]
  },
  {
   "cell_type": "code",
   "execution_count": 12,
   "id": "d530fc88-fe19-4c7e-8328-3f70cb9caef6",
   "metadata": {},
   "outputs": [
    {
     "data": {
      "text/plain": [
       "DNNR(n_neighbors=3,n_approx=32)"
      ]
     },
     "execution_count": 12,
     "metadata": {},
     "output_type": "execute_result"
    }
   ],
   "source": [
    "model = DNNR(n_approx=32)\n",
    "model.fit(X_train, y_train)"
   ]
  },
  {
   "cell_type": "code",
   "execution_count": 13,
   "id": "9485cc91-593a-4f5b-b8f0-a55b823aa6a9",
   "metadata": {},
   "outputs": [
    {
     "name": "stdout",
     "output_type": "stream",
     "text": [
      "Evaluating DNNR Model\n",
      "MSE=0.6291861042296396\n"
     ]
    }
   ],
   "source": [
    "print(\"Evaluating DNNR Model\")\n",
    "mse_error=mean_squared_error(y_test,model.predict(X_test))\n",
    "print(\"MSE={error}\".format(error=mse_error))"
   ]
  },
  {
   "cell_type": "markdown",
   "id": "d5bd0993-71f5-473b-a76c-a8aa6a353ea4",
   "metadata": {},
   "source": [
    "# Comparing to KNN model "
   ]
  },
  {
   "cell_type": "code",
   "execution_count": 11,
   "id": "e561f3d6-8a61-4ea8-ad84-1476b52ab03a",
   "metadata": {},
   "outputs": [
    {
     "name": "stdout",
     "output_type": "stream",
     "text": [
      "Evaluating DNNR Model\n",
      "MSE=3.0875686506604025\n"
     ]
    }
   ],
   "source": [
    "from sklearn.neighbors import KNeighborsRegressor\n",
    "print(\"Evaluating DNNR Model\")\n",
    "knn_model=KNeighborsRegressor(n_neighbors=16)\n",
    "knn_model.fit(X_train,y_train)\n",
    "knn_mse_error=mean_squared_error(y_test,knn_model.predict(X_test))\n",
    "print(\"MSE={error}\".format(error=knn_mse_error))"
   ]
  },
  {
   "cell_type": "code",
   "execution_count": null,
   "id": "85eb13db-dca9-447f-ae15-88f085f62b71",
   "metadata": {},
   "outputs": [],
   "source": []
  }
 ],
 "metadata": {
  "kernelspec": {
   "display_name": "Python 3",
   "language": "python",
   "name": "python3"
  },
  "language_info": {
   "codemirror_mode": {
    "name": "ipython",
    "version": 3
   },
   "file_extension": ".py",
   "mimetype": "text/x-python",
   "name": "python",
   "nbconvert_exporter": "python",
   "pygments_lexer": "ipython3",
   "version": "3.8.8"
  }
 },
 "nbformat": 4,
 "nbformat_minor": 5
}
